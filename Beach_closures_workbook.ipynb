{
 "cells": [
  {
   "cell_type": "code",
   "execution_count": 1,
   "metadata": {
    "collapsed": true
   },
   "outputs": [],
   "source": [
    "import pandas as pd\n",
    "import matplotlib.pyplot as plt\n",
    "%matplotlib inline"
   ]
  },
  {
   "cell_type": "code",
   "execution_count": 2,
   "metadata": {
    "collapsed": true
   },
   "outputs": [],
   "source": [
    "df = pd.read_csv('NJDEP_Beach_Data_2017_09_19.csv')"
   ]
  },
  {
   "cell_type": "code",
   "execution_count": 3,
   "metadata": {
    "collapsed": false
   },
   "outputs": [
    {
     "data": {
      "text/html": [
       "<div>\n",
       "<table border=\"1\" class=\"dataframe\">\n",
       "  <thead>\n",
       "    <tr style=\"text-align: right;\">\n",
       "      <th></th>\n",
       "      <th>Station_Name</th>\n",
       "      <th>Beach_Name</th>\n",
       "      <th>Municipality</th>\n",
       "      <th>County_Name</th>\n",
       "      <th>Incident_Start_Date</th>\n",
       "      <th>Incident_End_Date</th>\n",
       "      <th>Location_Type_Name</th>\n",
       "      <th>Beach_Act_Type_Name</th>\n",
       "      <th>Beach_Reason_Type_Name</th>\n",
       "      <th>Beach_Reason_Type_Desc</th>\n",
       "      <th>Beach_Source_Type_Name</th>\n",
       "      <th>Beach_Source_Type_Desc</th>\n",
       "      <th>Beach_Indicator_Type_Name</th>\n",
       "      <th>Beach_Indicator_Type_Desc</th>\n",
       "      <th>Incident_Additional_Comments</th>\n",
       "    </tr>\n",
       "  </thead>\n",
       "  <tbody>\n",
       "    <tr>\n",
       "      <th>0</th>\n",
       "      <td>CC1176</td>\n",
       "      <td>Philadelphia</td>\n",
       "      <td>Cape May City</td>\n",
       "      <td>Cape May</td>\n",
       "      <td>06/01/2016</td>\n",
       "      <td>06/02/2016</td>\n",
       "      <td>Ocean</td>\n",
       "      <td>CONTAM_ADV</td>\n",
       "      <td>ELEV_BACT</td>\n",
       "      <td>NaN</td>\n",
       "      <td>UNKNOWN</td>\n",
       "      <td>NaN</td>\n",
       "      <td>ENTERO</td>\n",
       "      <td>NaN</td>\n",
       "      <td>Automated Advisory: This beach (and/or its bra...</td>\n",
       "    </tr>\n",
       "    <tr>\n",
       "      <th>1</th>\n",
       "      <td>CC1134</td>\n",
       "      <td>Grant</td>\n",
       "      <td>Cape May City</td>\n",
       "      <td>Cape May</td>\n",
       "      <td>06/16/2015</td>\n",
       "      <td>06/17/2015</td>\n",
       "      <td>Ocean</td>\n",
       "      <td>CONTAM_ADV</td>\n",
       "      <td>ELEV_BACT</td>\n",
       "      <td>NaN</td>\n",
       "      <td>UNKNOWN</td>\n",
       "      <td>NaN</td>\n",
       "      <td>ENTERO</td>\n",
       "      <td>NaN</td>\n",
       "      <td>Automated Advisory: This beach (and/or its bra...</td>\n",
       "    </tr>\n",
       "    <tr>\n",
       "      <th>2</th>\n",
       "      <td>CC1135</td>\n",
       "      <td>Broadway</td>\n",
       "      <td>Cape May City</td>\n",
       "      <td>Cape May</td>\n",
       "      <td>07/05/2005</td>\n",
       "      <td>07/06/2005</td>\n",
       "      <td>Ocean</td>\n",
       "      <td>CLOSURE</td>\n",
       "      <td>CHEM_OIL</td>\n",
       "      <td>Cape May City Plane Crash - Broadway</td>\n",
       "      <td>OTHER</td>\n",
       "      <td>NaN</td>\n",
       "      <td>PREEMPT</td>\n",
       "      <td>NaN</td>\n",
       "      <td>NaN</td>\n",
       "    </tr>\n",
       "    <tr>\n",
       "      <th>3</th>\n",
       "      <td>CC1136</td>\n",
       "      <td>2nd</td>\n",
       "      <td>Cape May City</td>\n",
       "      <td>Cape May</td>\n",
       "      <td>07/05/2005</td>\n",
       "      <td>07/06/2005</td>\n",
       "      <td>Ocean</td>\n",
       "      <td>CLOSURE</td>\n",
       "      <td>CHEM_OIL</td>\n",
       "      <td>Cape May City Plane Crash - 2nd Ave.</td>\n",
       "      <td>OTHER</td>\n",
       "      <td>NaN</td>\n",
       "      <td>PREEMPT</td>\n",
       "      <td>NaN</td>\n",
       "      <td>NaN</td>\n",
       "    </tr>\n",
       "    <tr>\n",
       "      <th>4</th>\n",
       "      <td>CC0099</td>\n",
       "      <td>Corinthian YC</td>\n",
       "      <td>Cape May City</td>\n",
       "      <td>Cape May</td>\n",
       "      <td>06/28/2010</td>\n",
       "      <td>06/29/2010</td>\n",
       "      <td>Bay</td>\n",
       "      <td>CLOSURE</td>\n",
       "      <td>SEWAGE</td>\n",
       "      <td>NaN</td>\n",
       "      <td>SEWER_LINE</td>\n",
       "      <td>NaN</td>\n",
       "      <td>PREEMPT</td>\n",
       "      <td>NaN</td>\n",
       "      <td>NaN</td>\n",
       "    </tr>\n",
       "  </tbody>\n",
       "</table>\n",
       "</div>"
      ],
      "text/plain": [
       "  Station_Name     Beach_Name   Municipality County_Name Incident_Start_Date  \\\n",
       "0       CC1176   Philadelphia  Cape May City    Cape May          06/01/2016   \n",
       "1       CC1134          Grant  Cape May City    Cape May          06/16/2015   \n",
       "2       CC1135       Broadway  Cape May City    Cape May          07/05/2005   \n",
       "3       CC1136            2nd  Cape May City    Cape May          07/05/2005   \n",
       "4       CC0099  Corinthian YC  Cape May City    Cape May          06/28/2010   \n",
       "\n",
       "  Incident_End_Date Location_Type_Name Beach_Act_Type_Name  \\\n",
       "0        06/02/2016              Ocean          CONTAM_ADV   \n",
       "1        06/17/2015              Ocean          CONTAM_ADV   \n",
       "2        07/06/2005              Ocean             CLOSURE   \n",
       "3        07/06/2005              Ocean             CLOSURE   \n",
       "4        06/29/2010                Bay             CLOSURE   \n",
       "\n",
       "  Beach_Reason_Type_Name                Beach_Reason_Type_Desc  \\\n",
       "0              ELEV_BACT                                   NaN   \n",
       "1              ELEV_BACT                                   NaN   \n",
       "2               CHEM_OIL  Cape May City Plane Crash - Broadway   \n",
       "3               CHEM_OIL  Cape May City Plane Crash - 2nd Ave.   \n",
       "4                 SEWAGE                                   NaN   \n",
       "\n",
       "  Beach_Source_Type_Name Beach_Source_Type_Desc Beach_Indicator_Type_Name  \\\n",
       "0                UNKNOWN                    NaN                    ENTERO   \n",
       "1                UNKNOWN                    NaN                    ENTERO   \n",
       "2                  OTHER                    NaN                   PREEMPT   \n",
       "3                  OTHER                    NaN                   PREEMPT   \n",
       "4             SEWER_LINE                    NaN                   PREEMPT   \n",
       "\n",
       "  Beach_Indicator_Type_Desc                       Incident_Additional_Comments  \n",
       "0                       NaN  Automated Advisory: This beach (and/or its bra...  \n",
       "1                       NaN  Automated Advisory: This beach (and/or its bra...  \n",
       "2                       NaN                                                NaN  \n",
       "3                       NaN                                                NaN  \n",
       "4                       NaN                                                NaN  "
      ]
     },
     "execution_count": 3,
     "metadata": {},
     "output_type": "execute_result"
    }
   ],
   "source": [
    "df.head()"
   ]
  },
  {
   "cell_type": "code",
   "execution_count": 4,
   "metadata": {
    "collapsed": false
   },
   "outputs": [
    {
     "name": "stdout",
     "output_type": "stream",
     "text": [
      "<class 'pandas.core.frame.DataFrame'>\n",
      "RangeIndex: 1414 entries, 0 to 1413\n",
      "Data columns (total 15 columns):\n",
      "Station_Name                    1414 non-null object\n",
      "Beach_Name                      1414 non-null object\n",
      "Municipality                    1414 non-null object\n",
      "County_Name                     1414 non-null object\n",
      "Incident_Start_Date             1414 non-null object\n",
      "Incident_End_Date               1414 non-null object\n",
      "Location_Type_Name              1414 non-null object\n",
      "Beach_Act_Type_Name             1414 non-null object\n",
      "Beach_Reason_Type_Name          1414 non-null object\n",
      "Beach_Reason_Type_Desc          274 non-null object\n",
      "Beach_Source_Type_Name          1414 non-null object\n",
      "Beach_Source_Type_Desc          13 non-null object\n",
      "Beach_Indicator_Type_Name       1414 non-null object\n",
      "Beach_Indicator_Type_Desc       6 non-null object\n",
      "Incident_Additional_Comments    429 non-null object\n",
      "dtypes: object(15)\n",
      "memory usage: 165.8+ KB\n"
     ]
    }
   ],
   "source": [
    "df.info()"
   ]
  },
  {
   "cell_type": "code",
   "execution_count": 5,
   "metadata": {
    "collapsed": false
   },
   "outputs": [
    {
     "data": {
      "text/plain": [
       "RAINFALL     666\n",
       "ELEV_BACT    608\n",
       "OTHER        109\n",
       "SEWAGE        24\n",
       "CHEM_OIL       6\n",
       "POLICY         1\n",
       "Name: Beach_Reason_Type_Name, dtype: int64"
      ]
     },
     "execution_count": 5,
     "metadata": {},
     "output_type": "execute_result"
    }
   ],
   "source": [
    "df['Beach_Reason_Type_Name'].value_counts()"
   ]
  },
  {
   "cell_type": "code",
   "execution_count": 6,
   "metadata": {
    "collapsed": false
   },
   "outputs": [],
   "source": [
    "#excluding rainfall-related closures\n",
    "no_r = df[df['Beach_Reason_Type_Name'] != \"RAINFALL\"]"
   ]
  },
  {
   "cell_type": "code",
   "execution_count": 7,
   "metadata": {
    "collapsed": false
   },
   "outputs": [
    {
     "data": {
      "text/html": [
       "<div>\n",
       "<table border=\"1\" class=\"dataframe\">\n",
       "  <thead>\n",
       "    <tr style=\"text-align: right;\">\n",
       "      <th></th>\n",
       "      <th>Station_Name</th>\n",
       "      <th>Beach_Name</th>\n",
       "      <th>Municipality</th>\n",
       "      <th>County_Name</th>\n",
       "      <th>Incident_Start_Date</th>\n",
       "      <th>Incident_End_Date</th>\n",
       "      <th>Location_Type_Name</th>\n",
       "      <th>Beach_Act_Type_Name</th>\n",
       "      <th>Beach_Reason_Type_Name</th>\n",
       "      <th>Beach_Reason_Type_Desc</th>\n",
       "      <th>Beach_Source_Type_Name</th>\n",
       "      <th>Beach_Source_Type_Desc</th>\n",
       "      <th>Beach_Indicator_Type_Name</th>\n",
       "      <th>Beach_Indicator_Type_Desc</th>\n",
       "      <th>Incident_Additional_Comments</th>\n",
       "    </tr>\n",
       "  </thead>\n",
       "  <tbody>\n",
       "    <tr>\n",
       "      <th>0</th>\n",
       "      <td>CC1176</td>\n",
       "      <td>Philadelphia</td>\n",
       "      <td>Cape May City</td>\n",
       "      <td>Cape May</td>\n",
       "      <td>06/01/2016</td>\n",
       "      <td>06/02/2016</td>\n",
       "      <td>Ocean</td>\n",
       "      <td>CONTAM_ADV</td>\n",
       "      <td>ELEV_BACT</td>\n",
       "      <td>NaN</td>\n",
       "      <td>UNKNOWN</td>\n",
       "      <td>NaN</td>\n",
       "      <td>ENTERO</td>\n",
       "      <td>NaN</td>\n",
       "      <td>Automated Advisory: This beach (and/or its bra...</td>\n",
       "    </tr>\n",
       "    <tr>\n",
       "      <th>1</th>\n",
       "      <td>CC1134</td>\n",
       "      <td>Grant</td>\n",
       "      <td>Cape May City</td>\n",
       "      <td>Cape May</td>\n",
       "      <td>06/16/2015</td>\n",
       "      <td>06/17/2015</td>\n",
       "      <td>Ocean</td>\n",
       "      <td>CONTAM_ADV</td>\n",
       "      <td>ELEV_BACT</td>\n",
       "      <td>NaN</td>\n",
       "      <td>UNKNOWN</td>\n",
       "      <td>NaN</td>\n",
       "      <td>ENTERO</td>\n",
       "      <td>NaN</td>\n",
       "      <td>Automated Advisory: This beach (and/or its bra...</td>\n",
       "    </tr>\n",
       "    <tr>\n",
       "      <th>2</th>\n",
       "      <td>CC1135</td>\n",
       "      <td>Broadway</td>\n",
       "      <td>Cape May City</td>\n",
       "      <td>Cape May</td>\n",
       "      <td>07/05/2005</td>\n",
       "      <td>07/06/2005</td>\n",
       "      <td>Ocean</td>\n",
       "      <td>CLOSURE</td>\n",
       "      <td>CHEM_OIL</td>\n",
       "      <td>Cape May City Plane Crash - Broadway</td>\n",
       "      <td>OTHER</td>\n",
       "      <td>NaN</td>\n",
       "      <td>PREEMPT</td>\n",
       "      <td>NaN</td>\n",
       "      <td>NaN</td>\n",
       "    </tr>\n",
       "    <tr>\n",
       "      <th>3</th>\n",
       "      <td>CC1136</td>\n",
       "      <td>2nd</td>\n",
       "      <td>Cape May City</td>\n",
       "      <td>Cape May</td>\n",
       "      <td>07/05/2005</td>\n",
       "      <td>07/06/2005</td>\n",
       "      <td>Ocean</td>\n",
       "      <td>CLOSURE</td>\n",
       "      <td>CHEM_OIL</td>\n",
       "      <td>Cape May City Plane Crash - 2nd Ave.</td>\n",
       "      <td>OTHER</td>\n",
       "      <td>NaN</td>\n",
       "      <td>PREEMPT</td>\n",
       "      <td>NaN</td>\n",
       "      <td>NaN</td>\n",
       "    </tr>\n",
       "    <tr>\n",
       "      <th>4</th>\n",
       "      <td>CC0099</td>\n",
       "      <td>Corinthian YC</td>\n",
       "      <td>Cape May City</td>\n",
       "      <td>Cape May</td>\n",
       "      <td>06/28/2010</td>\n",
       "      <td>06/29/2010</td>\n",
       "      <td>Bay</td>\n",
       "      <td>CLOSURE</td>\n",
       "      <td>SEWAGE</td>\n",
       "      <td>NaN</td>\n",
       "      <td>SEWER_LINE</td>\n",
       "      <td>NaN</td>\n",
       "      <td>PREEMPT</td>\n",
       "      <td>NaN</td>\n",
       "      <td>NaN</td>\n",
       "    </tr>\n",
       "  </tbody>\n",
       "</table>\n",
       "</div>"
      ],
      "text/plain": [
       "  Station_Name     Beach_Name   Municipality County_Name Incident_Start_Date  \\\n",
       "0       CC1176   Philadelphia  Cape May City    Cape May          06/01/2016   \n",
       "1       CC1134          Grant  Cape May City    Cape May          06/16/2015   \n",
       "2       CC1135       Broadway  Cape May City    Cape May          07/05/2005   \n",
       "3       CC1136            2nd  Cape May City    Cape May          07/05/2005   \n",
       "4       CC0099  Corinthian YC  Cape May City    Cape May          06/28/2010   \n",
       "\n",
       "  Incident_End_Date Location_Type_Name Beach_Act_Type_Name  \\\n",
       "0        06/02/2016              Ocean          CONTAM_ADV   \n",
       "1        06/17/2015              Ocean          CONTAM_ADV   \n",
       "2        07/06/2005              Ocean             CLOSURE   \n",
       "3        07/06/2005              Ocean             CLOSURE   \n",
       "4        06/29/2010                Bay             CLOSURE   \n",
       "\n",
       "  Beach_Reason_Type_Name                Beach_Reason_Type_Desc  \\\n",
       "0              ELEV_BACT                                   NaN   \n",
       "1              ELEV_BACT                                   NaN   \n",
       "2               CHEM_OIL  Cape May City Plane Crash - Broadway   \n",
       "3               CHEM_OIL  Cape May City Plane Crash - 2nd Ave.   \n",
       "4                 SEWAGE                                   NaN   \n",
       "\n",
       "  Beach_Source_Type_Name Beach_Source_Type_Desc Beach_Indicator_Type_Name  \\\n",
       "0                UNKNOWN                    NaN                    ENTERO   \n",
       "1                UNKNOWN                    NaN                    ENTERO   \n",
       "2                  OTHER                    NaN                   PREEMPT   \n",
       "3                  OTHER                    NaN                   PREEMPT   \n",
       "4             SEWER_LINE                    NaN                   PREEMPT   \n",
       "\n",
       "  Beach_Indicator_Type_Desc                       Incident_Additional_Comments  \n",
       "0                       NaN  Automated Advisory: This beach (and/or its bra...  \n",
       "1                       NaN  Automated Advisory: This beach (and/or its bra...  \n",
       "2                       NaN                                                NaN  \n",
       "3                       NaN                                                NaN  \n",
       "4                       NaN                                                NaN  "
      ]
     },
     "execution_count": 7,
     "metadata": {},
     "output_type": "execute_result"
    }
   ],
   "source": [
    "no_r.head()"
   ]
  },
  {
   "cell_type": "code",
   "execution_count": 8,
   "metadata": {
    "collapsed": false
   },
   "outputs": [
    {
     "name": "stdout",
     "output_type": "stream",
     "text": [
      "<class 'pandas.core.frame.DataFrame'>\n",
      "Int64Index: 748 entries, 0 to 1413\n",
      "Data columns (total 15 columns):\n",
      "Station_Name                    748 non-null object\n",
      "Beach_Name                      748 non-null object\n",
      "Municipality                    748 non-null object\n",
      "County_Name                     748 non-null object\n",
      "Incident_Start_Date             748 non-null object\n",
      "Incident_End_Date               748 non-null object\n",
      "Location_Type_Name              748 non-null object\n",
      "Beach_Act_Type_Name             748 non-null object\n",
      "Beach_Reason_Type_Name          748 non-null object\n",
      "Beach_Reason_Type_Desc          156 non-null object\n",
      "Beach_Source_Type_Name          748 non-null object\n",
      "Beach_Source_Type_Desc          13 non-null object\n",
      "Beach_Indicator_Type_Name       748 non-null object\n",
      "Beach_Indicator_Type_Desc       4 non-null object\n",
      "Incident_Additional_Comments    351 non-null object\n",
      "dtypes: object(15)\n",
      "memory usage: 93.5+ KB\n"
     ]
    }
   ],
   "source": [
    "no_r.info()"
   ]
  },
  {
   "cell_type": "code",
   "execution_count": 9,
   "metadata": {
    "collapsed": false
   },
   "outputs": [
    {
     "data": {
      "text/plain": [
       "CONTAM_ADV    400\n",
       "CLOSURE       347\n",
       "RAIN_ADV        1\n",
       "Name: Beach_Act_Type_Name, dtype: int64"
      ]
     },
     "execution_count": 9,
     "metadata": {},
     "output_type": "execute_result"
    }
   ],
   "source": [
    "no_r['Beach_Act_Type_Name'].value_counts()"
   ]
  },
  {
   "cell_type": "code",
   "execution_count": 10,
   "metadata": {
    "collapsed": false
   },
   "outputs": [
    {
     "data": {
      "text/plain": [
       "ENTERO     605\n",
       "OTHER      102\n",
       "PREEMPT     39\n",
       "ECOLI        1\n",
       "RATIO        1\n",
       "Name: Beach_Indicator_Type_Name, dtype: int64"
      ]
     },
     "execution_count": 10,
     "metadata": {},
     "output_type": "execute_result"
    }
   ],
   "source": [
    "no_r['Beach_Indicator_Type_Name'].value_counts()"
   ]
  },
  {
   "cell_type": "code",
   "execution_count": 11,
   "metadata": {
    "collapsed": false
   },
   "outputs": [
    {
     "data": {
      "text/plain": [
       "ELEV_BACT    608\n",
       "OTHER        109\n",
       "SEWAGE        24\n",
       "CHEM_OIL       6\n",
       "POLICY         1\n",
       "Name: Beach_Reason_Type_Name, dtype: int64"
      ]
     },
     "execution_count": 11,
     "metadata": {},
     "output_type": "execute_result"
    }
   ],
   "source": [
    "no_r['Beach_Reason_Type_Name'].value_counts()"
   ]
  },
  {
   "cell_type": "code",
   "execution_count": 12,
   "metadata": {
    "collapsed": false,
    "scrolled": true
   },
   "outputs": [
    {
     "data": {
      "text/html": [
       "<div>\n",
       "<table border=\"1\" class=\"dataframe\">\n",
       "  <thead>\n",
       "    <tr style=\"text-align: right;\">\n",
       "      <th>Beach_Reason_Type_Name</th>\n",
       "      <th>CHEM_OIL</th>\n",
       "      <th>ELEV_BACT</th>\n",
       "      <th>OTHER</th>\n",
       "      <th>POLICY</th>\n",
       "      <th>SEWAGE</th>\n",
       "    </tr>\n",
       "    <tr>\n",
       "      <th>Beach_Reason_Type_Desc</th>\n",
       "      <th></th>\n",
       "      <th></th>\n",
       "      <th></th>\n",
       "      <th></th>\n",
       "      <th></th>\n",
       "    </tr>\n",
       "  </thead>\n",
       "  <tbody>\n",
       "    <tr>\n",
       "      <th>Allenhurst - Cedar Avenue</th>\n",
       "      <td>NaN</td>\n",
       "      <td>1.0</td>\n",
       "      <td>NaN</td>\n",
       "      <td>NaN</td>\n",
       "      <td>NaN</td>\n",
       "    </tr>\n",
       "    <tr>\n",
       "      <th>As a safety precaution this beach was closed due to the closures of surrounding Ventnor beaches.</th>\n",
       "      <td>NaN</td>\n",
       "      <td>NaN</td>\n",
       "      <td>NaN</td>\n",
       "      <td>1.0</td>\n",
       "      <td>NaN</td>\n",
       "    </tr>\n",
       "    <tr>\n",
       "      <th>Atlantic City Spill - Kentucky</th>\n",
       "      <td>NaN</td>\n",
       "      <td>NaN</td>\n",
       "      <td>NaN</td>\n",
       "      <td>NaN</td>\n",
       "      <td>1.0</td>\n",
       "    </tr>\n",
       "    <tr>\n",
       "      <th>Atlantic City Spill - South Carolina</th>\n",
       "      <td>NaN</td>\n",
       "      <td>NaN</td>\n",
       "      <td>NaN</td>\n",
       "      <td>NaN</td>\n",
       "      <td>1.0</td>\n",
       "    </tr>\n",
       "    <tr>\n",
       "      <th>Beach was closed due to 11 syringes found at the tide line. A 5-gallon bucket was also found. The entire Long Branch beachfront was surveyed and no other trash or debris was found.</th>\n",
       "      <td>NaN</td>\n",
       "      <td>NaN</td>\n",
       "      <td>3.0</td>\n",
       "      <td>NaN</td>\n",
       "      <td>NaN</td>\n",
       "    </tr>\n",
       "    <tr>\n",
       "      <th>Beachwood Beach West</th>\n",
       "      <td>NaN</td>\n",
       "      <td>1.0</td>\n",
       "      <td>NaN</td>\n",
       "      <td>NaN</td>\n",
       "      <td>NaN</td>\n",
       "    </tr>\n",
       "    <tr>\n",
       "      <th>Brick Spill - Windward Beach</th>\n",
       "      <td>NaN</td>\n",
       "      <td>NaN</td>\n",
       "      <td>NaN</td>\n",
       "      <td>NaN</td>\n",
       "      <td>1.0</td>\n",
       "    </tr>\n",
       "    <tr>\n",
       "      <th>Cape May City Plane Crash - 2nd Ave.</th>\n",
       "      <td>1.0</td>\n",
       "      <td>NaN</td>\n",
       "      <td>NaN</td>\n",
       "      <td>NaN</td>\n",
       "      <td>NaN</td>\n",
       "    </tr>\n",
       "    <tr>\n",
       "      <th>Cape May City Plane Crash - Broadway</th>\n",
       "      <td>1.0</td>\n",
       "      <td>NaN</td>\n",
       "      <td>NaN</td>\n",
       "      <td>NaN</td>\n",
       "      <td>NaN</td>\n",
       "    </tr>\n",
       "    <tr>\n",
       "      <th>Closed as a precaution due to a sewage spill that possibly may have entered a storm drain.</th>\n",
       "      <td>NaN</td>\n",
       "      <td>NaN</td>\n",
       "      <td>NaN</td>\n",
       "      <td>NaN</td>\n",
       "      <td>1.0</td>\n",
       "    </tr>\n",
       "    <tr>\n",
       "      <th>Discharging through emergency spillway through beaches.</th>\n",
       "      <td>NaN</td>\n",
       "      <td>5.0</td>\n",
       "      <td>NaN</td>\n",
       "      <td>NaN</td>\n",
       "      <td>NaN</td>\n",
       "    </tr>\n",
       "    <tr>\n",
       "      <th>Flotable Trash</th>\n",
       "      <td>NaN</td>\n",
       "      <td>NaN</td>\n",
       "      <td>1.0</td>\n",
       "      <td>NaN</td>\n",
       "      <td>NaN</td>\n",
       "    </tr>\n",
       "    <tr>\n",
       "      <th>Leonardo - Thompson Avenue</th>\n",
       "      <td>NaN</td>\n",
       "      <td>1.0</td>\n",
       "      <td>NaN</td>\n",
       "      <td>NaN</td>\n",
       "      <td>NaN</td>\n",
       "    </tr>\n",
       "    <tr>\n",
       "      <th>Post Tropical storm Hermine</th>\n",
       "      <td>NaN</td>\n",
       "      <td>1.0</td>\n",
       "      <td>NaN</td>\n",
       "      <td>NaN</td>\n",
       "      <td>NaN</td>\n",
       "    </tr>\n",
       "    <tr>\n",
       "      <th>Rain 0.20 in SMRSA</th>\n",
       "      <td>NaN</td>\n",
       "      <td>1.0</td>\n",
       "      <td>NaN</td>\n",
       "      <td>NaN</td>\n",
       "      <td>NaN</td>\n",
       "    </tr>\n",
       "    <tr>\n",
       "      <th>Rain 0.55 inches</th>\n",
       "      <td>NaN</td>\n",
       "      <td>1.0</td>\n",
       "      <td>NaN</td>\n",
       "      <td>NaN</td>\n",
       "      <td>NaN</td>\n",
       "    </tr>\n",
       "    <tr>\n",
       "      <th>Rain 0.91 in</th>\n",
       "      <td>NaN</td>\n",
       "      <td>1.0</td>\n",
       "      <td>NaN</td>\n",
       "      <td>NaN</td>\n",
       "      <td>NaN</td>\n",
       "    </tr>\n",
       "    <tr>\n",
       "      <th>Rain 1.11 inches 8-6-2012</th>\n",
       "      <td>NaN</td>\n",
       "      <td>1.0</td>\n",
       "      <td>NaN</td>\n",
       "      <td>NaN</td>\n",
       "      <td>NaN</td>\n",
       "    </tr>\n",
       "    <tr>\n",
       "      <th>Rain rough surf</th>\n",
       "      <td>NaN</td>\n",
       "      <td>1.0</td>\n",
       "      <td>NaN</td>\n",
       "      <td>NaN</td>\n",
       "      <td>NaN</td>\n",
       "    </tr>\n",
       "    <tr>\n",
       "      <th>Rainfall</th>\n",
       "      <td>NaN</td>\n",
       "      <td>7.0</td>\n",
       "      <td>NaN</td>\n",
       "      <td>NaN</td>\n",
       "      <td>NaN</td>\n",
       "    </tr>\n",
       "    <tr>\n",
       "      <th>Result was 133</th>\n",
       "      <td>NaN</td>\n",
       "      <td>1.0</td>\n",
       "      <td>NaN</td>\n",
       "      <td>NaN</td>\n",
       "      <td>NaN</td>\n",
       "    </tr>\n",
       "    <tr>\n",
       "      <th>Sewage overflow occured in vicinity.</th>\n",
       "      <td>NaN</td>\n",
       "      <td>NaN</td>\n",
       "      <td>NaN</td>\n",
       "      <td>NaN</td>\n",
       "      <td>2.0</td>\n",
       "    </tr>\n",
       "    <tr>\n",
       "      <th>Sewage spill into Wesley</th>\n",
       "      <td>NaN</td>\n",
       "      <td>1.0</td>\n",
       "      <td>NaN</td>\n",
       "      <td>NaN</td>\n",
       "      <td>NaN</td>\n",
       "    </tr>\n",
       "    <tr>\n",
       "      <th>confluent</th>\n",
       "      <td>NaN</td>\n",
       "      <td>1.0</td>\n",
       "      <td>NaN</td>\n",
       "      <td>NaN</td>\n",
       "      <td>NaN</td>\n",
       "    </tr>\n",
       "    <tr>\n",
       "      <th>flotable trash</th>\n",
       "      <td>NaN</td>\n",
       "      <td>NaN</td>\n",
       "      <td>1.0</td>\n",
       "      <td>NaN</td>\n",
       "      <td>NaN</td>\n",
       "    </tr>\n",
       "    <tr>\n",
       "      <th>fuel spill at marina</th>\n",
       "      <td>2.0</td>\n",
       "      <td>NaN</td>\n",
       "      <td>NaN</td>\n",
       "      <td>NaN</td>\n",
       "      <td>NaN</td>\n",
       "    </tr>\n",
       "    <tr>\n",
       "      <th>last rain 6/13/12 0.33 in</th>\n",
       "      <td>NaN</td>\n",
       "      <td>1.0</td>\n",
       "      <td>NaN</td>\n",
       "      <td>NaN</td>\n",
       "      <td>NaN</td>\n",
       "    </tr>\n",
       "    <tr>\n",
       "      <th>precaution syringe washup</th>\n",
       "      <td>NaN</td>\n",
       "      <td>NaN</td>\n",
       "      <td>101.0</td>\n",
       "      <td>NaN</td>\n",
       "      <td>NaN</td>\n",
       "    </tr>\n",
       "    <tr>\n",
       "      <th>rain rough surf</th>\n",
       "      <td>NaN</td>\n",
       "      <td>2.0</td>\n",
       "      <td>NaN</td>\n",
       "      <td>NaN</td>\n",
       "      <td>NaN</td>\n",
       "    </tr>\n",
       "    <tr>\n",
       "      <th>resuspension from heavy surf</th>\n",
       "      <td>NaN</td>\n",
       "      <td>1.0</td>\n",
       "      <td>NaN</td>\n",
       "      <td>NaN</td>\n",
       "      <td>NaN</td>\n",
       "    </tr>\n",
       "    <tr>\n",
       "      <th>seaweed</th>\n",
       "      <td>NaN</td>\n",
       "      <td>NaN</td>\n",
       "      <td>2.0</td>\n",
       "      <td>NaN</td>\n",
       "      <td>NaN</td>\n",
       "    </tr>\n",
       "    <tr>\n",
       "      <th>sewage spill to storm drn</th>\n",
       "      <td>NaN</td>\n",
       "      <td>NaN</td>\n",
       "      <td>NaN</td>\n",
       "      <td>NaN</td>\n",
       "      <td>7.0</td>\n",
       "    </tr>\n",
       "    <tr>\n",
       "      <th>twn clsd aftr 1st high ct</th>\n",
       "      <td>NaN</td>\n",
       "      <td>2.0</td>\n",
       "      <td>NaN</td>\n",
       "      <td>NaN</td>\n",
       "      <td>NaN</td>\n",
       "    </tr>\n",
       "  </tbody>\n",
       "</table>\n",
       "</div>"
      ],
      "text/plain": [
       "Beach_Reason_Type_Name                              CHEM_OIL  ELEV_BACT  \\\n",
       "Beach_Reason_Type_Desc                                                    \n",
       "Allenhurst - Cedar Avenue                                NaN        1.0   \n",
       "As a safety precaution this beach was closed du...       NaN        NaN   \n",
       "Atlantic City Spill - Kentucky                           NaN        NaN   \n",
       "Atlantic City Spill - South Carolina                     NaN        NaN   \n",
       "Beach was closed due to 11 syringes found at th...       NaN        NaN   \n",
       "Beachwood Beach West                                     NaN        1.0   \n",
       "Brick Spill - Windward Beach                             NaN        NaN   \n",
       "Cape May City Plane Crash - 2nd Ave.                     1.0        NaN   \n",
       "Cape May City Plane Crash - Broadway                     1.0        NaN   \n",
       "Closed as a precaution due to a sewage spill th...       NaN        NaN   \n",
       "Discharging through emergency spillway through ...       NaN        5.0   \n",
       "Flotable Trash                                           NaN        NaN   \n",
       "Leonardo - Thompson Avenue                               NaN        1.0   \n",
       "Post Tropical storm Hermine                              NaN        1.0   \n",
       "Rain 0.20 in SMRSA                                       NaN        1.0   \n",
       "Rain 0.55 inches                                         NaN        1.0   \n",
       "Rain 0.91 in                                             NaN        1.0   \n",
       "Rain 1.11 inches 8-6-2012                                NaN        1.0   \n",
       "Rain rough surf                                          NaN        1.0   \n",
       "Rainfall                                                 NaN        7.0   \n",
       "Result was 133                                           NaN        1.0   \n",
       "Sewage overflow occured in vicinity.                     NaN        NaN   \n",
       "Sewage spill into Wesley                                 NaN        1.0   \n",
       "confluent                                                NaN        1.0   \n",
       "flotable trash                                           NaN        NaN   \n",
       "fuel spill at marina                                     2.0        NaN   \n",
       "last rain 6/13/12 0.33 in                                NaN        1.0   \n",
       "precaution syringe washup                                NaN        NaN   \n",
       "rain rough surf                                          NaN        2.0   \n",
       "resuspension from heavy surf                             NaN        1.0   \n",
       "seaweed                                                  NaN        NaN   \n",
       "sewage spill to storm drn                                NaN        NaN   \n",
       "twn clsd aftr 1st high ct                                NaN        2.0   \n",
       "\n",
       "Beach_Reason_Type_Name                              OTHER  POLICY  SEWAGE  \n",
       "Beach_Reason_Type_Desc                                                     \n",
       "Allenhurst - Cedar Avenue                             NaN     NaN     NaN  \n",
       "As a safety precaution this beach was closed du...    NaN     1.0     NaN  \n",
       "Atlantic City Spill - Kentucky                        NaN     NaN     1.0  \n",
       "Atlantic City Spill - South Carolina                  NaN     NaN     1.0  \n",
       "Beach was closed due to 11 syringes found at th...    3.0     NaN     NaN  \n",
       "Beachwood Beach West                                  NaN     NaN     NaN  \n",
       "Brick Spill - Windward Beach                          NaN     NaN     1.0  \n",
       "Cape May City Plane Crash - 2nd Ave.                  NaN     NaN     NaN  \n",
       "Cape May City Plane Crash - Broadway                  NaN     NaN     NaN  \n",
       "Closed as a precaution due to a sewage spill th...    NaN     NaN     1.0  \n",
       "Discharging through emergency spillway through ...    NaN     NaN     NaN  \n",
       "Flotable Trash                                        1.0     NaN     NaN  \n",
       "Leonardo - Thompson Avenue                            NaN     NaN     NaN  \n",
       "Post Tropical storm Hermine                           NaN     NaN     NaN  \n",
       "Rain 0.20 in SMRSA                                    NaN     NaN     NaN  \n",
       "Rain 0.55 inches                                      NaN     NaN     NaN  \n",
       "Rain 0.91 in                                          NaN     NaN     NaN  \n",
       "Rain 1.11 inches 8-6-2012                             NaN     NaN     NaN  \n",
       "Rain rough surf                                       NaN     NaN     NaN  \n",
       "Rainfall                                              NaN     NaN     NaN  \n",
       "Result was 133                                        NaN     NaN     NaN  \n",
       "Sewage overflow occured in vicinity.                  NaN     NaN     2.0  \n",
       "Sewage spill into Wesley                              NaN     NaN     NaN  \n",
       "confluent                                             NaN     NaN     NaN  \n",
       "flotable trash                                        1.0     NaN     NaN  \n",
       "fuel spill at marina                                  NaN     NaN     NaN  \n",
       "last rain 6/13/12 0.33 in                             NaN     NaN     NaN  \n",
       "precaution syringe washup                           101.0     NaN     NaN  \n",
       "rain rough surf                                       NaN     NaN     NaN  \n",
       "resuspension from heavy surf                          NaN     NaN     NaN  \n",
       "seaweed                                               2.0     NaN     NaN  \n",
       "sewage spill to storm drn                             NaN     NaN     7.0  \n",
       "twn clsd aftr 1st high ct                             NaN     NaN     NaN  "
      ]
     },
     "execution_count": 12,
     "metadata": {},
     "output_type": "execute_result"
    }
   ],
   "source": [
    "#trying to drill down on \"other\" - turns out most are related to a syringe washup\n",
    "no_r.pivot_table(index='Beach_Reason_Type_Desc', columns='Beach_Reason_Type_Name', values='Station_Name', aggfunc=len)"
   ]
  },
  {
   "cell_type": "code",
   "execution_count": 13,
   "metadata": {
    "collapsed": true
   },
   "outputs": [],
   "source": [
    "from datetime import datetime"
   ]
  },
  {
   "cell_type": "code",
   "execution_count": 14,
   "metadata": {
    "collapsed": false,
    "scrolled": false
   },
   "outputs": [
    {
     "name": "stderr",
     "output_type": "stream",
     "text": [
      "/Users/epetenko/miniconda2/lib/python2.7/site-packages/ipykernel/__main__.py:2: SettingWithCopyWarning: \n",
      "A value is trying to be set on a copy of a slice from a DataFrame.\n",
      "Try using .loc[row_indexer,col_indexer] = value instead\n",
      "\n",
      "See the caveats in the documentation: http://pandas.pydata.org/pandas-docs/stable/indexing.html#indexing-view-versus-copy\n",
      "  from ipykernel import kernelapp as app\n"
     ]
    }
   ],
   "source": [
    "#adding a machine-parsable date column\n",
    "no_r['Incident_start_cleaned'] = no_r['Incident_Start_Date'].apply(lambda x: datetime.strptime(x, \"%m/%d/%Y\"))"
   ]
  },
  {
   "cell_type": "code",
   "execution_count": 15,
   "metadata": {
    "collapsed": false
   },
   "outputs": [
    {
     "data": {
      "image/png": "[encoded data removed]",
      "text/plain": [
       "<matplotlib.figure.Figure at 0x10b9afd50>"
      ]
     },
     "metadata": {},
     "output_type": "display_data"
    }
   ],
   "source": [
    "top_beaches = no_r.pivot_table(index=['Beach_Name','Municipality'], values='Incident_End_Date', aggfunc=len).sort_values(ascending=False).head(10).plot(kind='barh', title='Beaches with most closures and advisories, 2005-2017', figsize=[12,8]);\n",
    "fig = top_beaches.get_figure()\n",
    "fig.savefig('top_beaches.png')"
   ]
  },
  {
   "cell_type": "code",
   "execution_count": 16,
   "metadata": {
    "collapsed": false
   },
   "outputs": [
    {
     "data": {
      "image/png": "[encoded data removed]",
      "text/plain": [
       "<matplotlib.figure.Figure at 0x10b9af450>"
      ]
     },
     "metadata": {},
     "output_type": "display_data"
    }
   ],
   "source": [
    "#the top stations for elevated bacterial closures/advisories\n",
    "no_r.pivot_table(index='Beach_Name', columns='Beach_Reason_Type_Name', values='Incident_End_Date', aggfunc=len).sort_values(by='ELEV_BACT', ascending=False).head().plot(kind='barh');"
   ]
  },
  {
   "cell_type": "code",
   "execution_count": 17,
   "metadata": {
    "collapsed": false
   },
   "outputs": [
    {
     "data": {
      "image/png": "[encoded data removed]",
      "text/plain": [
       "<matplotlib.figure.Figure at 0x10bfc9f90>"
      ]
     },
     "metadata": {},
     "output_type": "display_data"
    }
   ],
   "source": [
    "#the top stations for any kind of reason\n",
    "no_r.pivot_table(index='Beach_Name', columns='Beach_Act_Type_Name', values='Incident_End_Date', aggfunc=len).sort_values(by='CLOSURE', ascending=False).head().plot(kind='barh', title='Most advisories/closures by type of action');"
   ]
  },
  {
   "cell_type": "code",
   "execution_count": 18,
   "metadata": {
    "collapsed": false
   },
   "outputs": [
    {
     "data": {
      "image/png": "[encoded data removed]",
      "text/plain": [
       "<matplotlib.figure.Figure at 0x10c007f10>"
      ]
     },
     "metadata": {},
     "output_type": "display_data"
    }
   ],
   "source": [
    "# stations closed most for bacteria\n",
    "no_r[(no_r['Beach_Reason_Type_Name'] == 'ELEV_BACT') & (no_r['Beach_Act_Type_Name'] == 'CLOSURE')].groupby('Beach_Name').count().iloc[:,1].sort_values(ascending=False).head().plot(kind='barh', title='Most bacteria-related closures');"
   ]
  },
  {
   "cell_type": "code",
   "execution_count": 19,
   "metadata": {
    "collapsed": false,
    "scrolled": true
   },
   "outputs": [
    {
     "data": {
      "image/png": "[encoded data removed]",
      "text/plain": [
       "<matplotlib.figure.Figure at 0x10bfa0350>"
      ]
     },
     "metadata": {},
     "output_type": "display_data"
    }
   ],
   "source": [
    "#date chart\n",
    "no_r.pivot_table(index='Incident_start_cleaned', values='Station_Name', aggfunc=len).plot(figsize=[15,10]);"
   ]
  },
  {
   "cell_type": "code",
   "execution_count": 20,
   "metadata": {
    "collapsed": false
   },
   "outputs": [
    {
     "data": {
      "image/png": "[encoded data removed]",
      "text/plain": [
       "<matplotlib.figure.Figure at 0x10ed5e7d0>"
      ]
     },
     "metadata": {},
     "output_type": "display_data"
    }
   ],
   "source": [
    "#top 5 dates for actions\n",
    "no_r.pivot_table(index='Incident_start_cleaned', values='Station_Name', aggfunc=len).sort_values(ascending=False).head().plot(kind='barh');"
   ]
  },
  {
   "cell_type": "code",
   "execution_count": 21,
   "metadata": {
    "collapsed": false
   },
   "outputs": [
    {
     "data": {
      "image/png": "[encoded data removed]",
      "text/plain": [
       "<matplotlib.figure.Figure at 0x10fb5be90>"
      ]
     },
     "metadata": {},
     "output_type": "display_data"
    }
   ],
   "source": [
    "no_r.pivot_table(index='Beach_Reason_Type_Name', columns='Beach_Act_Type_Name', values='Station_Name', aggfunc=len).plot(kind='bar', title='Type of action by reason for action');"
   ]
  },
  {
   "cell_type": "code",
   "execution_count": 22,
   "metadata": {
    "collapsed": false
   },
   "outputs": [],
   "source": [
    "#wanted to drill down on why this beach was top\n",
    "bwd = no_r[no_r['Station_Name'] == 'OC0116']"
   ]
  },
  {
   "cell_type": "code",
   "execution_count": 23,
   "metadata": {
    "collapsed": false
   },
   "outputs": [
    {
     "data": {
      "text/html": [
       "<div>\n",
       "<table border=\"1\" class=\"dataframe\">\n",
       "  <thead>\n",
       "    <tr style=\"text-align: right;\">\n",
       "      <th></th>\n",
       "      <th>Station_Name</th>\n",
       "      <th>Beach_Name</th>\n",
       "      <th>Municipality</th>\n",
       "      <th>County_Name</th>\n",
       "      <th>Incident_Start_Date</th>\n",
       "      <th>Incident_End_Date</th>\n",
       "      <th>Location_Type_Name</th>\n",
       "      <th>Beach_Act_Type_Name</th>\n",
       "      <th>Beach_Reason_Type_Name</th>\n",
       "      <th>Beach_Reason_Type_Desc</th>\n",
       "      <th>Beach_Source_Type_Name</th>\n",
       "      <th>Beach_Source_Type_Desc</th>\n",
       "      <th>Beach_Indicator_Type_Name</th>\n",
       "      <th>Beach_Indicator_Type_Desc</th>\n",
       "      <th>Incident_Additional_Comments</th>\n",
       "      <th>Incident_start_cleaned</th>\n",
       "    </tr>\n",
       "  </thead>\n",
       "  <tbody>\n",
       "    <tr>\n",
       "      <th>403</th>\n",
       "      <td>OC0116</td>\n",
       "      <td>Beachwood Beach West</td>\n",
       "      <td>Beachwood Borough</td>\n",
       "      <td>Ocean</td>\n",
       "      <td>07/06/2005</td>\n",
       "      <td>07/07/2005</td>\n",
       "      <td>River</td>\n",
       "      <td>CLOSURE</td>\n",
       "      <td>ELEV_BACT</td>\n",
       "      <td>Beachwood Beach West</td>\n",
       "      <td>UNKNOWN</td>\n",
       "      <td>NaN</td>\n",
       "      <td>ENTERO</td>\n",
       "      <td>NaN</td>\n",
       "      <td>NaN</td>\n",
       "      <td>2005-07-06</td>\n",
       "    </tr>\n",
       "    <tr>\n",
       "      <th>404</th>\n",
       "      <td>OC0116</td>\n",
       "      <td>Beachwood Beach West</td>\n",
       "      <td>Beachwood Borough</td>\n",
       "      <td>Ocean</td>\n",
       "      <td>06/28/2006</td>\n",
       "      <td>06/29/2006</td>\n",
       "      <td>River</td>\n",
       "      <td>CLOSURE</td>\n",
       "      <td>ELEV_BACT</td>\n",
       "      <td>NaN</td>\n",
       "      <td>UNKNOWN</td>\n",
       "      <td>NaN</td>\n",
       "      <td>ENTERO</td>\n",
       "      <td>NaN</td>\n",
       "      <td>NaN</td>\n",
       "      <td>2006-06-28</td>\n",
       "    </tr>\n",
       "    <tr>\n",
       "      <th>405</th>\n",
       "      <td>OC0116</td>\n",
       "      <td>Beachwood Beach West</td>\n",
       "      <td>Beachwood Borough</td>\n",
       "      <td>Ocean</td>\n",
       "      <td>08/09/2006</td>\n",
       "      <td>08/10/2006</td>\n",
       "      <td>River</td>\n",
       "      <td>CLOSURE</td>\n",
       "      <td>ELEV_BACT</td>\n",
       "      <td>NaN</td>\n",
       "      <td>UNKNOWN</td>\n",
       "      <td>NaN</td>\n",
       "      <td>ENTERO</td>\n",
       "      <td>NaN</td>\n",
       "      <td>NaN</td>\n",
       "      <td>2006-08-09</td>\n",
       "    </tr>\n",
       "    <tr>\n",
       "      <th>406</th>\n",
       "      <td>OC0116</td>\n",
       "      <td>Beachwood Beach West</td>\n",
       "      <td>Beachwood Borough</td>\n",
       "      <td>Ocean</td>\n",
       "      <td>08/16/2006</td>\n",
       "      <td>08/17/2006</td>\n",
       "      <td>River</td>\n",
       "      <td>CLOSURE</td>\n",
       "      <td>ELEV_BACT</td>\n",
       "      <td>NaN</td>\n",
       "      <td>UNKNOWN</td>\n",
       "      <td>NaN</td>\n",
       "      <td>ENTERO</td>\n",
       "      <td>NaN</td>\n",
       "      <td>NaN</td>\n",
       "      <td>2006-08-16</td>\n",
       "    </tr>\n",
       "    <tr>\n",
       "      <th>407</th>\n",
       "      <td>OC0116</td>\n",
       "      <td>Beachwood Beach West</td>\n",
       "      <td>Beachwood Borough</td>\n",
       "      <td>Ocean</td>\n",
       "      <td>08/30/2006</td>\n",
       "      <td>08/31/2006</td>\n",
       "      <td>River</td>\n",
       "      <td>CLOSURE</td>\n",
       "      <td>ELEV_BACT</td>\n",
       "      <td>NaN</td>\n",
       "      <td>UNKNOWN</td>\n",
       "      <td>NaN</td>\n",
       "      <td>ENTERO</td>\n",
       "      <td>NaN</td>\n",
       "      <td>NaN</td>\n",
       "      <td>2006-08-30</td>\n",
       "    </tr>\n",
       "  </tbody>\n",
       "</table>\n",
       "</div>"
      ],
      "text/plain": [
       "    Station_Name            Beach_Name       Municipality County_Name  \\\n",
       "403       OC0116  Beachwood Beach West  Beachwood Borough       Ocean   \n",
       "404       OC0116  Beachwood Beach West  Beachwood Borough       Ocean   \n",
       "405       OC0116  Beachwood Beach West  Beachwood Borough       Ocean   \n",
       "406       OC0116  Beachwood Beach West  Beachwood Borough       Ocean   \n",
       "407       OC0116  Beachwood Beach West  Beachwood Borough       Ocean   \n",
       "\n",
       "    Incident_Start_Date Incident_End_Date Location_Type_Name  \\\n",
       "403          07/06/2005        07/07/2005              River   \n",
       "404          06/28/2006        06/29/2006              River   \n",
       "405          08/09/2006        08/10/2006              River   \n",
       "406          08/16/2006        08/17/2006              River   \n",
       "407          08/30/2006        08/31/2006              River   \n",
       "\n",
       "    Beach_Act_Type_Name Beach_Reason_Type_Name Beach_Reason_Type_Desc  \\\n",
       "403             CLOSURE              ELEV_BACT   Beachwood Beach West   \n",
       "404             CLOSURE              ELEV_BACT                    NaN   \n",
       "405             CLOSURE              ELEV_BACT                    NaN   \n",
       "406             CLOSURE              ELEV_BACT                    NaN   \n",
       "407             CLOSURE              ELEV_BACT                    NaN   \n",
       "\n",
       "    Beach_Source_Type_Name Beach_Source_Type_Desc Beach_Indicator_Type_Name  \\\n",
       "403                UNKNOWN                    NaN                    ENTERO   \n",
       "404                UNKNOWN                    NaN                    ENTERO   \n",
       "405                UNKNOWN                    NaN                    ENTERO   \n",
       "406                UNKNOWN                    NaN                    ENTERO   \n",
       "407                UNKNOWN                    NaN                    ENTERO   \n",
       "\n",
       "    Beach_Indicator_Type_Desc Incident_Additional_Comments  \\\n",
       "403                       NaN                          NaN   \n",
       "404                       NaN                          NaN   \n",
       "405                       NaN                          NaN   \n",
       "406                       NaN                          NaN   \n",
       "407                       NaN                          NaN   \n",
       "\n",
       "    Incident_start_cleaned  \n",
       "403             2005-07-06  \n",
       "404             2006-06-28  \n",
       "405             2006-08-09  \n",
       "406             2006-08-16  \n",
       "407             2006-08-30  "
      ]
     },
     "execution_count": 23,
     "metadata": {},
     "output_type": "execute_result"
    }
   ],
   "source": [
    "bwd.head()"
   ]
  },
  {
   "cell_type": "code",
   "execution_count": 24,
   "metadata": {
    "collapsed": false
   },
   "outputs": [],
   "source": [
    "this_yr = no_r[pd.DatetimeIndex(no_r['Incident_start_cleaned']).year == 2017]"
   ]
  },
  {
   "cell_type": "code",
   "execution_count": 25,
   "metadata": {
    "collapsed": false
   },
   "outputs": [
    {
     "data": {
      "text/plain": [
       "CONTAM_ADV    78\n",
       "CLOSURE       28\n",
       "Name: Beach_Act_Type_Name, dtype: int64"
      ]
     },
     "execution_count": 25,
     "metadata": {},
     "output_type": "execute_result"
    }
   ],
   "source": [
    "this_yr['Beach_Act_Type_Name'].value_counts()"
   ]
  },
  {
   "cell_type": "code",
   "execution_count": 26,
   "metadata": {
    "collapsed": true
   },
   "outputs": [],
   "source": [
    "latlong = pd.read_csv('NJDEP_Beach_Coords_2017_09_19.csv')"
   ]
  },
  {
   "cell_type": "code",
   "execution_count": 27,
   "metadata": {
    "collapsed": false
   },
   "outputs": [
    {
     "data": {
      "text/html": [
       "<div>\n",
       "<table border=\"1\" class=\"dataframe\">\n",
       "  <thead>\n",
       "    <tr style=\"text-align: right;\">\n",
       "      <th></th>\n",
       "      <th>Station_Name</th>\n",
       "      <th>Latitude_DD</th>\n",
       "      <th>Longitude_DD</th>\n",
       "    </tr>\n",
       "  </thead>\n",
       "  <tbody>\n",
       "    <tr>\n",
       "      <th>0</th>\n",
       "      <td>AC0005</td>\n",
       "      <td>39.399447</td>\n",
       "      <td>-74.384901</td>\n",
       "    </tr>\n",
       "    <tr>\n",
       "      <th>1</th>\n",
       "      <td>AC0009</td>\n",
       "      <td>39.385730</td>\n",
       "      <td>-74.427013</td>\n",
       "    </tr>\n",
       "    <tr>\n",
       "      <th>2</th>\n",
       "      <td>AC0013</td>\n",
       "      <td>39.377238</td>\n",
       "      <td>-74.448044</td>\n",
       "    </tr>\n",
       "    <tr>\n",
       "      <th>3</th>\n",
       "      <td>AC0015</td>\n",
       "      <td>39.374273</td>\n",
       "      <td>-74.458200</td>\n",
       "    </tr>\n",
       "    <tr>\n",
       "      <th>4</th>\n",
       "      <td>AC0019</td>\n",
       "      <td>39.361271</td>\n",
       "      <td>-74.464668</td>\n",
       "    </tr>\n",
       "  </tbody>\n",
       "</table>\n",
       "</div>"
      ],
      "text/plain": [
       "  Station_Name  Latitude_DD  Longitude_DD\n",
       "0       AC0005    39.399447    -74.384901\n",
       "1       AC0009    39.385730    -74.427013\n",
       "2       AC0013    39.377238    -74.448044\n",
       "3       AC0015    39.374273    -74.458200\n",
       "4       AC0019    39.361271    -74.464668"
      ]
     },
     "execution_count": 27,
     "metadata": {},
     "output_type": "execute_result"
    }
   ],
   "source": [
    "latlong.head()"
   ]
  },
  {
   "cell_type": "code",
   "execution_count": 28,
   "metadata": {
    "collapsed": false
   },
   "outputs": [],
   "source": [
    "#aggregated so got totals for each station, then merged with geographic coordinates\n",
    "pivoted_agg = no_r.pivot_table(index='Station_Name', columns='Beach_Act_Type_Name', values='County_Name', aggfunc=len).merge(latlong, left_index=True, right_on='Station_Name', how='left')"
   ]
  },
  {
   "cell_type": "code",
   "execution_count": 29,
   "metadata": {
    "collapsed": true
   },
   "outputs": [],
   "source": [
    "#adding back in the beach names and municipalities\n",
    "piv_w_names = pivoted_agg.merge(no_r, on='Station_Name')[[u'CLOSURE', u'CONTAM_ADV', u'Station_Name', u'Latitude_DD',\n",
    "       u'Longitude_DD', u'Beach_Name', u'Municipality', u'County_Name']]"
   ]
  },
  {
   "cell_type": "code",
   "execution_count": 30,
   "metadata": {
    "collapsed": false
   },
   "outputs": [
    {
     "data": {
      "text/html": [
       "<div>\n",
       "<table border=\"1\" class=\"dataframe\">\n",
       "  <thead>\n",
       "    <tr style=\"text-align: right;\">\n",
       "      <th>Beach_Act_Type_Name</th>\n",
       "      <th>CLOSURE</th>\n",
       "      <th>CONTAM_ADV</th>\n",
       "      <th>Station_Name</th>\n",
       "      <th>Latitude_DD</th>\n",
       "      <th>Longitude_DD</th>\n",
       "      <th>Beach_Name</th>\n",
       "      <th>Municipality</th>\n",
       "      <th>County_Name</th>\n",
       "    </tr>\n",
       "  </thead>\n",
       "  <tbody>\n",
       "    <tr>\n",
       "      <th>0</th>\n",
       "      <td>5.0</td>\n",
       "      <td>5.0</td>\n",
       "      <td>AC0050</td>\n",
       "      <td>39.311075</td>\n",
       "      <td>-74.592742</td>\n",
       "      <td>New Jersey Ave</td>\n",
       "      <td>Somers Point City</td>\n",
       "      <td>Atlantic</td>\n",
       "    </tr>\n",
       "    <tr>\n",
       "      <th>1</th>\n",
       "      <td>5.0</td>\n",
       "      <td>5.0</td>\n",
       "      <td>AC0050</td>\n",
       "      <td>39.311075</td>\n",
       "      <td>-74.592742</td>\n",
       "      <td>New Jersey Ave</td>\n",
       "      <td>Somers Point City</td>\n",
       "      <td>Atlantic</td>\n",
       "    </tr>\n",
       "    <tr>\n",
       "      <th>2</th>\n",
       "      <td>5.0</td>\n",
       "      <td>5.0</td>\n",
       "      <td>AC0050</td>\n",
       "      <td>39.311075</td>\n",
       "      <td>-74.592742</td>\n",
       "      <td>New Jersey Ave</td>\n",
       "      <td>Somers Point City</td>\n",
       "      <td>Atlantic</td>\n",
       "    </tr>\n",
       "    <tr>\n",
       "      <th>3</th>\n",
       "      <td>5.0</td>\n",
       "      <td>5.0</td>\n",
       "      <td>AC0050</td>\n",
       "      <td>39.311075</td>\n",
       "      <td>-74.592742</td>\n",
       "      <td>New Jersey Ave</td>\n",
       "      <td>Somers Point City</td>\n",
       "      <td>Atlantic</td>\n",
       "    </tr>\n",
       "    <tr>\n",
       "      <th>4</th>\n",
       "      <td>5.0</td>\n",
       "      <td>5.0</td>\n",
       "      <td>AC0050</td>\n",
       "      <td>39.311075</td>\n",
       "      <td>-74.592742</td>\n",
       "      <td>New Jersey Ave</td>\n",
       "      <td>Somers Point City</td>\n",
       "      <td>Atlantic</td>\n",
       "    </tr>\n",
       "  </tbody>\n",
       "</table>\n",
       "</div>"
      ],
      "text/plain": [
       "Beach_Act_Type_Name  CLOSURE  CONTAM_ADV Station_Name  Latitude_DD  \\\n",
       "0                        5.0         5.0       AC0050    39.311075   \n",
       "1                        5.0         5.0       AC0050    39.311075   \n",
       "2                        5.0         5.0       AC0050    39.311075   \n",
       "3                        5.0         5.0       AC0050    39.311075   \n",
       "4                        5.0         5.0       AC0050    39.311075   \n",
       "\n",
       "Beach_Act_Type_Name  Longitude_DD      Beach_Name       Municipality  \\\n",
       "0                      -74.592742  New Jersey Ave  Somers Point City   \n",
       "1                      -74.592742  New Jersey Ave  Somers Point City   \n",
       "2                      -74.592742  New Jersey Ave  Somers Point City   \n",
       "3                      -74.592742  New Jersey Ave  Somers Point City   \n",
       "4                      -74.592742  New Jersey Ave  Somers Point City   \n",
       "\n",
       "Beach_Act_Type_Name County_Name  \n",
       "0                      Atlantic  \n",
       "1                      Atlantic  \n",
       "2                      Atlantic  \n",
       "3                      Atlantic  \n",
       "4                      Atlantic  "
      ]
     },
     "execution_count": 30,
     "metadata": {},
     "output_type": "execute_result"
    }
   ],
   "source": [
    "piv_w_names.head()"
   ]
  },
  {
   "cell_type": "code",
   "execution_count": 31,
   "metadata": {
    "collapsed": true
   },
   "outputs": [],
   "source": [
    "# piv_w_names.to_csv('total_closures_geolocated.csv', index=False)"
   ]
  },
  {
   "cell_type": "code",
   "execution_count": 32,
   "metadata": {
    "collapsed": false
   },
   "outputs": [
    {
     "data": {
      "image/png": "[encoded data removed]",
      "text/plain": [
       "<matplotlib.figure.Figure at 0x10fc66b10>"
      ]
     },
     "metadata": {},
     "output_type": "display_data"
    }
   ],
   "source": [
    "no_r.groupby(pd.DatetimeIndex(no_r['Incident_start_cleaned']).year).count().iloc[:,2].plot(title='All actions over time');"
   ]
  },
  {
   "cell_type": "code",
   "execution_count": 33,
   "metadata": {
    "collapsed": false
   },
   "outputs": [
    {
     "data": {
      "image/png": "[encoded data removed]",
      "text/plain": [
       "<matplotlib.figure.Figure at 0x10fc66310>"
      ]
     },
     "metadata": {},
     "output_type": "display_data"
    },
    {
     "data": {
      "image/png": "[encoded data removed]",
      "text/plain": [
       "<matplotlib.figure.Figure at 0x10ee54910>"
      ]
     },
     "metadata": {},
     "output_type": "display_data"
    }
   ],
   "source": [
    "no_r.pivot_table(index=pd.DatetimeIndex(no_r['Incident_start_cleaned']).year, columns=['Beach_Reason_Type_Name'], values='Station_Name', aggfunc=len).plot(title='Reasons for actions over time');\n",
    "no_r.pivot_table(index=pd.DatetimeIndex(no_r['Incident_start_cleaned']).year, columns=['Beach_Act_Type_Name'], values='Station_Name', aggfunc=len).plot(title='Kinds of actions over time');"
   ]
  }
 ],
 "metadata": {
  "kernelspec": {
   "display_name": "Python 2",
   "language": "python",
   "name": "python2"
  },
  "language_info": {
   "codemirror_mode": {
    "name": "ipython",
    "version": 2
   },
   "file_extension": ".py",
   "mimetype": "text/x-python",
   "name": "python",
   "nbconvert_exporter": "python",
   "pygments_lexer": "ipython2",
   "version": "2.7.12"
  }
 },
 "nbformat": 4,
 "nbformat_minor": 2
}
